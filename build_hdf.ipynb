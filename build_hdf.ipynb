{
 "cells": [
  {
   "cell_type": "code",
   "execution_count": 1,
   "metadata": {
    "collapsed": false
   },
   "outputs": [],
   "source": [
    "import numpy as np\n",
    "import scipy.io\n",
    "from math import isnan\n",
    "import random"
   ]
  },
  {
   "cell_type": "code",
   "execution_count": 2,
   "metadata": {
    "collapsed": true
   },
   "outputs": [],
   "source": [
    "img_dirs = ['/pio/scratch/2/i258312/imdb_crop', '/pio/scratch/2/i258312/wiki_crop']\n",
    "mat_files = ['/pio/scratch/2/i258312/imdb_crop/imdb.mat', '/pio/scratch/2/i258312/wiki_crop/wiki.mat']\n",
    "set_names = ['imdb', 'wiki'] # 460k, 62k"
   ]
  },
  {
   "cell_type": "code",
   "execution_count": 3,
   "metadata": {
    "collapsed": true
   },
   "outputs": [],
   "source": [
    "hdf_path = '/pio/scratch/2/i258312/faces48px.hdf5'"
   ]
  },
  {
   "cell_type": "code",
   "execution_count": 4,
   "metadata": {
    "collapsed": true
   },
   "outputs": [],
   "source": [
    "# resizing parameters\n",
    "size = 48\n",
    "margin = int(0.25*size)\n",
    "before_crop = size+2*margin"
   ]
  },
  {
   "cell_type": "code",
   "execution_count": null,
   "metadata": {
    "collapsed": true
   },
   "outputs": [],
   "source": []
  },
  {
   "cell_type": "code",
   "execution_count": 5,
   "metadata": {
    "collapsed": true
   },
   "outputs": [],
   "source": [
    "from scipy import misc\n",
    "\n",
    "def read(base_dir, filename):\n",
    "    im = misc.imread(base_dir+'/'+filename[0], mode='RGB')\n",
    "    return im"
   ]
  },
  {
   "cell_type": "code",
   "execution_count": 6,
   "metadata": {
    "collapsed": true
   },
   "outputs": [],
   "source": [
    "from skimage.transform import resize\n",
    "from skimage.util import crop\n",
    "\n",
    "def smaller(im):\n",
    "    im = resize(im, (before_crop, before_crop, 3), mode='edge')\n",
    "    im = crop(im, ((margin, margin), (margin, margin), (0,0)))\n",
    "    return im"
   ]
  },
  {
   "cell_type": "code",
   "execution_count": 7,
   "metadata": {
    "collapsed": true
   },
   "outputs": [],
   "source": [
    "import re\n",
    "from datetime import date\n",
    "\n",
    "def extract_age(filename, year_taken):\n",
    "    filename = filename[0]\n",
    "    match = re.search('(\\d\\d\\d\\d)-(\\d+)-(\\d+)',filename)\n",
    "    if match:\n",
    "        y = int(match.group(1))\n",
    "        m = int(match.group(2))\n",
    "        d = int(match.group(3))\n",
    "        \n",
    "        # some dates are broken\n",
    "        try:\n",
    "            born = date(y,m,d)\n",
    "        except ValueError:\n",
    "            #print(filename)\n",
    "            try:\n",
    "                born = date(y,m,15)\n",
    "            except ValueError:\n",
    "                born = date(y,7,15)\n",
    "                \n",
    "        taken = date(year_taken,7,1)\n",
    "        return (taken - born).days / 365\n",
    "    else:\n",
    "        #print(filename)\n",
    "        return None"
   ]
  },
  {
   "cell_type": "code",
   "execution_count": null,
   "metadata": {
    "collapsed": true
   },
   "outputs": [],
   "source": [
    "img = []\n",
    "sex = []\n",
    "age = []\n",
    "n = 0"
   ]
  },
  {
   "cell_type": "code",
   "execution_count": null,
   "metadata": {
    "collapsed": false,
    "scrolled": true
   },
   "outputs": [
    {
     "name": "stdout",
     "output_type": "stream",
     "text": [
      "5000\n",
      "10000\n",
      "15000\n",
      "20000\n",
      "25000\n",
      "30000\n",
      "35000\n",
      "40000\n",
      "45000\n",
      "50000\n",
      "55000\n",
      "60000\n",
      "65000\n",
      "70000\n",
      "75000\n",
      "80000\n",
      "85000\n",
      "90000\n",
      "95000\n",
      "100000\n"
     ]
    }
   ],
   "source": [
    "# load the data\n",
    "for (img_dir, mat, set_name) in zip(img_dirs, mat_files, set_names):\n",
    "    # load metadata\n",
    "    mat_data = scipy.io.loadmat(mat)\n",
    "    data_table = mat_data[set_name][0][0]\n",
    "    \n",
    "    # extract info\n",
    "    y = data_table[1][0,:]\n",
    "    f = data_table[2][0,:]\n",
    "    s = data_table[3][0,:]\n",
    "    #names = data_table[4][0,:]\n",
    "    #print(len(f))\n",
    "    \n",
    "    for (filename, year, curr_sex) in zip(f,y,s):\n",
    "        # calculate age\n",
    "        a = extract_age(filename, year)\n",
    "        if (a is not None) and (a < 160) and (a >= 0):\n",
    "            age.append(a)\n",
    "        else:\n",
    "            continue\n",
    "    \n",
    "        # load and resize image\n",
    "        i = read(img_dir, filename)\n",
    "        i = smaller(i)\n",
    "        img.append(i)\n",
    "        \n",
    "        # get rid of nans in sex\n",
    "        if isnan(curr_sex):\n",
    "            curr_sex = random.choice([1.0, 0.0])\n",
    "        curr_sex = bool(curr_sex)\n",
    "        sex.append(curr_sex)\n",
    "        \n",
    "        n += 1\n",
    "        if n % 5000 == 0:\n",
    "            print(n)"
   ]
  },
  {
   "cell_type": "code",
   "execution_count": null,
   "metadata": {
    "collapsed": false
   },
   "outputs": [],
   "source": [
    "n = len(img)\n",
    "assert(len(sex) == len(age) == n)\n",
    "n"
   ]
  },
  {
   "cell_type": "code",
   "execution_count": null,
   "metadata": {
    "collapsed": false
   },
   "outputs": [],
   "source": [
    "max(age)"
   ]
  },
  {
   "cell_type": "code",
   "execution_count": null,
   "metadata": {
    "collapsed": false
   },
   "outputs": [],
   "source": [
    "img = np.array(img, dtype=np.float32).reshape(-1,30,30,3)\n",
    "sex = np.array(sex, dtype=np.bool)\n",
    "age = np.array(age, dtype=np.uint8)\n",
    "img.shape"
   ]
  },
  {
   "cell_type": "code",
   "execution_count": null,
   "metadata": {
    "collapsed": false
   },
   "outputs": [],
   "source": [
    "img.dtype"
   ]
  },
  {
   "cell_type": "code",
   "execution_count": null,
   "metadata": {
    "collapsed": false
   },
   "outputs": [],
   "source": [
    "sex.shape"
   ]
  },
  {
   "cell_type": "code",
   "execution_count": null,
   "metadata": {
    "collapsed": false
   },
   "outputs": [],
   "source": [
    "max(age)"
   ]
  },
  {
   "cell_type": "code",
   "execution_count": null,
   "metadata": {
    "collapsed": false
   },
   "outputs": [],
   "source": [
    "\n",
    "age.shape"
   ]
  },
  {
   "cell_type": "code",
   "execution_count": null,
   "metadata": {
    "collapsed": false
   },
   "outputs": [],
   "source": [
    "import matplotlib.pyplot as plt\n",
    "\n",
    "plt.hist(age)\n",
    "plt.show()"
   ]
  },
  {
   "cell_type": "code",
   "execution_count": null,
   "metadata": {
    "collapsed": false
   },
   "outputs": [],
   "source": [
    "plt.hist(sex)\n",
    "plt.show()"
   ]
  },
  {
   "cell_type": "code",
   "execution_count": null,
   "metadata": {
    "collapsed": true
   },
   "outputs": [],
   "source": [
    "# save to hdf\n",
    "\n",
    "import h5py\n",
    "\n",
    "f = h5py.File(hdf_path, mode='w')\n",
    "img_dset = f.create_dataset('img', data=img)\n",
    "sex_dset = f.create_dataset('sex', data=sex)\n",
    "age_dset = f.create_dataset('age', data=age)\n",
    "f.flush()\n",
    "f.close()"
   ]
  },
  {
   "cell_type": "code",
   "execution_count": null,
   "metadata": {
    "collapsed": false
   },
   "outputs": [],
   "source": [
    "# read from hdf\n",
    "f_read = h5py.File(hdf_path, mode='r')\n",
    "\n",
    "img_read = f_read['img']\n",
    "age_read = f_read['age']\n",
    "sex_read = f_read['sex']\n",
    "img_read.shape, age_read.shape, sex_read.shape"
   ]
  },
  {
   "cell_type": "code",
   "execution_count": null,
   "metadata": {
    "collapsed": false
   },
   "outputs": [],
   "source": [
    "plt.hist(age_read)\n",
    "plt.show()"
   ]
  },
  {
   "cell_type": "code",
   "execution_count": null,
   "metadata": {
    "collapsed": false
   },
   "outputs": [],
   "source": [
    "plt.hist(sex_read)\n",
    "plt.show()"
   ]
  },
  {
   "cell_type": "code",
   "execution_count": null,
   "metadata": {
    "collapsed": false
   },
   "outputs": [],
   "source": [
    "for i in [0,3,30,31,1000,1500,2000-1]:\n",
    "    plt.imshow(img_read[i])\n",
    "    plt.show()"
   ]
  },
  {
   "cell_type": "code",
   "execution_count": null,
   "metadata": {
    "collapsed": true
   },
   "outputs": [],
   "source": []
  },
  {
   "cell_type": "code",
   "execution_count": null,
   "metadata": {
    "collapsed": true
   },
   "outputs": [],
   "source": [
    "f_read.flush()\n",
    "f_read.close()"
   ]
  },
  {
   "cell_type": "code",
   "execution_count": null,
   "metadata": {
    "collapsed": true
   },
   "outputs": [],
   "source": []
  },
  {
   "cell_type": "code",
   "execution_count": null,
   "metadata": {
    "collapsed": true
   },
   "outputs": [],
   "source": []
  },
  {
   "cell_type": "code",
   "execution_count": null,
   "metadata": {
    "collapsed": true
   },
   "outputs": [],
   "source": []
  },
  {
   "cell_type": "code",
   "execution_count": null,
   "metadata": {
    "collapsed": true
   },
   "outputs": [],
   "source": []
  }
 ],
 "metadata": {
  "kernelspec": {
   "display_name": "Python 2",
   "language": "python",
   "name": "python2"
  },
  "language_info": {
   "codemirror_mode": {
    "name": "ipython",
    "version": 2
   },
   "file_extension": ".py",
   "mimetype": "text/x-python",
   "name": "python",
   "nbconvert_exporter": "python",
   "pygments_lexer": "ipython2",
   "version": "2.7.13"
  }
 },
 "nbformat": 4,
 "nbformat_minor": 2
}
